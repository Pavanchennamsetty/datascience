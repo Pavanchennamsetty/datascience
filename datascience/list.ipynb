{
 "cells": [
  {
   "cell_type": "code",
   "execution_count": 3,
   "id": "202a0ad2-5e13-4432-8eb4-fcd851dec7c4",
   "metadata": {},
   "outputs": [
    {
     "name": "stdout",
     "output_type": "stream",
     "text": [
      "[1, 2, 3, [4]]\n"
     ]
    }
   ],
   "source": [
    "#Adds an element to the end of the list.\n",
    "my_list=[1,2,3]\n",
    "my_list.append([4])\n",
    "print(my_list)"
   ]
  },
  {
   "cell_type": "code",
   "execution_count": 7,
   "id": "2826e1fa-ab1c-4e43-9c9f-4c7103b162d1",
   "metadata": {},
   "outputs": [
    {
     "name": "stdout",
     "output_type": "stream",
     "text": [
      "[1, 2, 3, 5]\n"
     ]
    }
   ],
   "source": [
    "my_list=[1,2,3]\n",
    "my_list.extend([5])\n",
    "print(my_list)"
   ]
  },
  {
   "cell_type": "code",
   "execution_count": 13,
   "id": "c552c96f-e666-4684-8c6a-7f14961eb8e4",
   "metadata": {},
   "outputs": [
    {
     "name": "stdout",
     "output_type": "stream",
     "text": [
      "[1, 4, 5, 6, 3, 7]\n"
     ]
    }
   ],
   "source": [
    "#Inserts an element at a specific position.\n",
    "my_list=[1,4,5,6,7]\n",
    "my_list.insert(4,3)\n",
    "print(my_list)"
   ]
  },
  {
   "cell_type": "code",
   "execution_count": 15,
   "id": "0e0986a1-7ac7-44f7-b921-6162405160eb",
   "metadata": {},
   "outputs": [
    {
     "data": {
      "text/plain": [
       "[1, 4, 10, 6, 3, 7]"
      ]
     },
     "execution_count": 15,
     "metadata": {},
     "output_type": "execute_result"
    }
   ],
   "source": [
    "my_list[2]=10\n",
    "my_list"
   ]
  },
  {
   "cell_type": "code",
   "execution_count": 43,
   "id": "05119f18-300e-4dc4-9567-eeaadfc65e2a",
   "metadata": {},
   "outputs": [
    {
     "name": "stdout",
     "output_type": "stream",
     "text": [
      "[1, 2, 3, 5]\n"
     ]
    }
   ],
   "source": [
    "#Removes the first occurrence of a specified value.\n",
    "my_list=[1,2,3,4,5]\n",
    "my_list.remove(4)\n",
    "print(my_list)"
   ]
  },
  {
   "cell_type": "code",
   "execution_count": 39,
   "id": "cb9787bb-ba32-4970-9edd-5914d133cfe6",
   "metadata": {},
   "outputs": [],
   "source": [
    "#Removes and returns the element at the given index (last by default).\n",
    "my_list=[1,2,3,4,5]\n",
    "del(my_list)\n"
   ]
  },
  {
   "cell_type": "code",
   "execution_count": 45,
   "id": "db8b118f-6dea-49b1-8c9c-e15e15bd4c62",
   "metadata": {},
   "outputs": [
    {
     "name": "stdout",
     "output_type": "stream",
     "text": [
      "None\n"
     ]
    }
   ],
   "source": [
    "#Removes all items from the list.\n",
    "my_list=[1,2,3,4,5]\n",
    "my_list1=my_list.clear()\n",
    "print(my_list1)"
   ]
  },
  {
   "cell_type": "code",
   "execution_count": 47,
   "id": "f5c3011b-b747-476b-a989-e76eeb6e2585",
   "metadata": {},
   "outputs": [
    {
     "name": "stdout",
     "output_type": "stream",
     "text": [
      "3\n"
     ]
    }
   ],
   "source": [
    "#Returns the index of the first matched element.\n",
    "my_list=[1,2,3,4,5]\n",
    "my_list1=my_list.index(4)\n",
    "print(my_list1)"
   ]
  },
  {
   "cell_type": "code",
   "execution_count": 49,
   "id": "212ea30d-cc3c-4862-9c47-f084ff26cc1c",
   "metadata": {},
   "outputs": [
    {
     "data": {
      "text/plain": [
       "4"
      ]
     },
     "execution_count": 49,
     "metadata": {},
     "output_type": "execute_result"
    }
   ],
   "source": [
    "my_list[3]"
   ]
  },
  {
   "cell_type": "code",
   "execution_count": 51,
   "id": "82453996-2dd6-4f8b-9941-294673163619",
   "metadata": {},
   "outputs": [
    {
     "name": "stdout",
     "output_type": "stream",
     "text": [
      "2\n"
     ]
    }
   ],
   "source": [
    "#Returns the number of occurrences of a value.\n",
    "my_list=[1,2,3,2,4,5]\n",
    "my_list1=my_list.count(2)\n",
    "print(my_list1)"
   ]
  },
  {
   "cell_type": "code",
   "execution_count": 59,
   "id": "059caabb-67be-48f6-90c6-8bbcb6bf6cf8",
   "metadata": {},
   "outputs": [
    {
     "name": "stdout",
     "output_type": "stream",
     "text": [
      "[1, 2, 3, 4, 5, 9, 10]\n"
     ]
    }
   ],
   "source": [
    "#Sorts the list in place (ascending by default).\n",
    "my_list=[10,9,1,2,4,3,5]\n",
    "a=sorted(my_list)\n",
    "print(a)"
   ]
  },
  {
   "cell_type": "code",
   "execution_count": 71,
   "id": "60f21e98-8300-425f-a5ae-10099a7c285a",
   "metadata": {},
   "outputs": [
    {
     "data": {
      "text/plain": [
       "[5, 4, 3, 2, 1]"
      ]
     },
     "execution_count": 71,
     "metadata": {},
     "output_type": "execute_result"
    }
   ],
   "source": [
    "#Reverses the order of elements in the list.\n",
    "my_list=[1,2,3,4,5]\n",
    "a=list(reversed(my_list))\n",
    "a"
   ]
  },
  {
   "cell_type": "code",
   "execution_count": 93,
   "id": "426efcfd-daad-4eb6-ba00-364bacab96b3",
   "metadata": {},
   "outputs": [
    {
     "data": {
      "text/plain": [
       "[1, 2, 3, 4, 5, 5]"
      ]
     },
     "execution_count": 93,
     "metadata": {},
     "output_type": "execute_result"
    }
   ],
   "source": [
    "#Returns a shallow copy of the list.\n",
    "my_list=[1,2,3,4,5]\n",
    "my_list.extend({5})\n",
    "my_list"
   ]
  },
  {
   "cell_type": "code",
   "execution_count": 9,
   "id": "6d5400d4-def5-468a-a16b-2bc51d7dd85e",
   "metadata": {},
   "outputs": [
    {
     "data": {
      "text/plain": [
       "5"
      ]
     },
     "execution_count": 9,
     "metadata": {},
     "output_type": "execute_result"
    }
   ],
   "source": [
    "#Returns the number of elements.\n",
    "text=[1,2,3,4,5]\n",
    "text1=len(text)\n",
    "text1"
   ]
  },
  {
   "cell_type": "code",
   "execution_count": 59,
   "id": "03d257ce-4382-485c-9ceb-d0f6a7960e42",
   "metadata": {},
   "outputs": [
    {
     "name": "stdout",
     "output_type": "stream",
     "text": [
      "True\n"
     ]
    }
   ],
   "source": [
    "#Checks if a value exists.\n",
    "text=[1,2,3,4,5]\n",
    "print(2 in text)"
   ]
  },
  {
   "cell_type": "code",
   "execution_count": 109,
   "id": "186a88b2-3872-423f-815c-ee9f1b1836b1",
   "metadata": {},
   "outputs": [
    {
     "ename": "TypeError",
     "evalue": "unsupported operand type(s) for |: 'tuple' and 'tuple'",
     "output_type": "error",
     "traceback": [
      "\u001b[1;31m---------------------------------------------------------------------------\u001b[0m",
      "\u001b[1;31mTypeError\u001b[0m                                 Traceback (most recent call last)",
      "Cell \u001b[1;32mIn[109], line 4\u001b[0m\n\u001b[0;32m      2\u001b[0m \u001b[38;5;28mlist\u001b[39m\u001b[38;5;241m=\u001b[39m(\u001b[38;5;241m1\u001b[39m,\u001b[38;5;241m2\u001b[39m,\u001b[38;5;241m3\u001b[39m,\u001b[38;5;241m4\u001b[39m)\n\u001b[0;32m      3\u001b[0m list2\u001b[38;5;241m=\u001b[39m(\u001b[38;5;241m5\u001b[39m,\u001b[38;5;241m6\u001b[39m,\u001b[38;5;241m7\u001b[39m,\u001b[38;5;241m8\u001b[39m)\n\u001b[1;32m----> 4\u001b[0m a\u001b[38;5;241m=\u001b[39m\u001b[38;5;28mlist\u001b[39m\u001b[38;5;241m|\u001b[39mlist2\n\u001b[0;32m      5\u001b[0m a\n",
      "\u001b[1;31mTypeError\u001b[0m: unsupported operand type(s) for |: 'tuple' and 'tuple'"
     ]
    }
   ],
   "source": [
    "#+ (Concatenation\n",
    "list=(1,2,3,4)\n",
    "list2=(5,6,7,8)\n",
    "a=list|list2\n",
    "a"
   ]
  },
  {
   "cell_type": "code",
   "execution_count": 105,
   "id": "94d82f4a-2567-488f-bd9c-f55a7cc419a0",
   "metadata": {},
   "outputs": [
    {
     "name": "stdout",
     "output_type": "stream",
     "text": [
      "[1, 2, 4, 5, 1, 2, 4, 5, 1, 2, 4, 5, 1, 2, 4, 5, 1, 2, 4, 5]\n"
     ]
    }
   ],
   "source": [
    "#* (Repetition)\n",
    "text=[1,2,4,5]\n",
    "print(text*5)"
   ]
  },
  {
   "cell_type": "code",
   "execution_count": 83,
   "id": "ddd0496d-20f3-4d46-a605-2ba11f08473a",
   "metadata": {},
   "outputs": [
    {
     "name": "stdout",
     "output_type": "stream",
     "text": [
      "[1, 2, 3]\n"
     ]
    }
   ],
   "source": [
    "#Deletes an item by index.\n",
    "list=[1,2,3,4]\n",
    "del list[3]\n",
    "print(list)\n"
   ]
  },
  {
   "cell_type": "code",
   "execution_count": 97,
   "id": "0e56cdc9-42e3-4bc1-b1f8-3342afb247d8",
   "metadata": {},
   "outputs": [
    {
     "name": "stdout",
     "output_type": "stream",
     "text": [
      "[1, 3, 4, 5]\n",
      "[4, 3, 5, 1]\n"
     ]
    }
   ],
   "source": [
    "#Returns a new sorted list (original remains unchanged).\n",
    "list=[4,3,5,1]\n",
    "list1=sorted(list)\n",
    "print(list1)\n",
    "print(list)"
   ]
  },
  {
   "cell_type": "code",
   "execution_count": 113,
   "id": "82fe32f1-448f-48a1-a662-34810a6fdeed",
   "metadata": {},
   "outputs": [
    {
     "name": "stdout",
     "output_type": "stream",
     "text": [
      "None\n"
     ]
    }
   ],
   "source": [
    "list=[4,3,5,1]\n",
    "a=list.sort()\n",
    "print(a)"
   ]
  },
  {
   "cell_type": "code",
   "execution_count": 123,
   "id": "9ce70193-ce3d-4d35-abcf-580075746254",
   "metadata": {},
   "outputs": [
    {
     "name": "stdout",
     "output_type": "stream",
     "text": [
      "{(2, 5), (1, 4), (3, 6)}\n"
     ]
    }
   ],
   "source": [
    "#Returns index-value pairs.\n",
    "#zip()\n",
    "lst1=[1,2,3]\n",
    "\n",
    "lst2=[4,5,6]\n",
    "zipped=set(zip(lst1,lst2))\n",
    "print(zipped)"
   ]
  },
  {
   "cell_type": "code",
   "execution_count": 15,
   "id": "29be836a-4a84-48c7-bcb1-8b7bec6046d3",
   "metadata": {},
   "outputs": [
    {
     "name": "stdout",
     "output_type": "stream",
     "text": [
      "5\n"
     ]
    }
   ],
   "source": [
    "#Finds the maximum value.\n",
    "list=[1,2,3,4,5]\n",
    "print(max(list))"
   ]
  },
  {
   "cell_type": "code",
   "execution_count": 17,
   "id": "5fbb68ca-2b88-45e0-b429-ef7b52bcb5a4",
   "metadata": {},
   "outputs": [
    {
     "name": "stdout",
     "output_type": "stream",
     "text": [
      "1\n"
     ]
    }
   ],
   "source": [
    "list=[1,2,3,45]\n",
    "print(min(list))"
   ]
  },
  {
   "cell_type": "code",
   "execution_count": 1,
   "id": "a509021f-2f59-4f1d-b1de-c5482c650345",
   "metadata": {},
   "outputs": [
    {
     "name": "stdout",
     "output_type": "stream",
     "text": [
      "[10]\n"
     ]
    }
   ],
   "source": [
    "#Returns the sum of elements.\n",
    "sum=0\n",
    "list=[1,2,3,4]\n",
    "for i in list:\n",
    "    sum=sum+i\n",
    "print([sum])"
   ]
  },
  {
   "cell_type": "code",
   "execution_count": 25,
   "id": "1bb4d9e7-ab7f-4683-a883-795ec7916536",
   "metadata": {},
   "outputs": [
    {
     "name": "stdin",
     "output_type": "stream",
     "text": [
      "enter a num: 9\n"
     ]
    },
    {
     "name": "stdout",
     "output_type": "stream",
     "text": [
      "it is not a prime\n"
     ]
    }
   ],
   "source": [
    "num=int(input(\"enter a num:\"))\n",
    "if num<=1:\n",
    "    print(\"it is not a prime\")\n",
    "else:\n",
    "    for i in range(2,num):\n",
    "        if num%i==0:\n",
    "            print(\"it is not a prime\")\n",
    "            break\n",
    "    else:\n",
    "        print(\"it is a prime\")\n"
   ]
  },
  {
   "cell_type": "code",
   "execution_count": null,
   "id": "6550f5f0-90fa-460c-a429-d6a49351286f",
   "metadata": {},
   "outputs": [],
   "source": []
  }
 ],
 "metadata": {
  "kernelspec": {
   "display_name": "Python [conda env:base] *",
   "language": "python",
   "name": "conda-base-py"
  },
  "language_info": {
   "codemirror_mode": {
    "name": "ipython",
    "version": 3
   },
   "file_extension": ".py",
   "mimetype": "text/x-python",
   "name": "python",
   "nbconvert_exporter": "python",
   "pygments_lexer": "ipython3",
   "version": "3.12.7"
  }
 },
 "nbformat": 4,
 "nbformat_minor": 5
}
