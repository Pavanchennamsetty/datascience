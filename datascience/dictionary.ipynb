{
 "cells": [
  {
   "cell_type": "code",
   "execution_count": 5,
   "id": "0bc0cd20-0967-4fdd-87b8-e765745b0d36",
   "metadata": {},
   "outputs": [
    {
     "name": "stdout",
     "output_type": "stream",
     "text": [
      "{}\n"
     ]
    }
   ],
   "source": [
    "#Removes all key-value pairs.\n",
    "dict={'a':'pavan','b':'narendra','c':'bahu'}\n",
    "dict.clear()\n",
    "print(dict)"
   ]
  },
  {
   "cell_type": "code",
   "execution_count": 29,
   "id": "780bb231-e838-48a4-876c-329fdc444882",
   "metadata": {},
   "outputs": [
    {
     "name": "stdout",
     "output_type": "stream",
     "text": [
      "{'a': 1, 'b': 2, 'c': 3}\n"
     ]
    }
   ],
   "source": [
    "d = {'a': 1, 'b': 2}\n",
    "copy_d = d.copy()\n",
    "#print(copy_d)  # Output: {'a': 1, 'b': 2}\n",
    "copy_d['c']=3\n",
    "#print(d)\n",
    "print(copy_d)\n"
   ]
  },
  {
   "cell_type": "code",
   "execution_count": 31,
   "id": "9ddf3739-3190-40b6-b0cf-63d5cfc208de",
   "metadata": {},
   "outputs": [
    {
     "name": "stdout",
     "output_type": "stream",
     "text": [
      "{'a': 1, 'b': 2}\n",
      "{'a': 1, 'b': 2, 'c': 3}\n",
      "{'a': 1, 'b': 2, 'c': 3}\n"
     ]
    }
   ],
   "source": [
    "d = {'a': 1, 'b': 2}\n",
    "copy_d = d\n",
    "print(copy_d)  # Output: {'a': 1, 'b': 2}\n",
    "copy_d['c']=3\n",
    "print(d)\n",
    "print(copy_d)\n"
   ]
  },
  {
   "cell_type": "code",
   "execution_count": 1,
   "id": "8508901f-fc6c-4488-bb8e-10616a54f8a8",
   "metadata": {},
   "outputs": [
    {
     "name": "stdout",
     "output_type": "stream",
     "text": [
      "pavan's friend is narendra\n"
     ]
    }
   ],
   "source": [
    "#pavan's friend is narendra\n",
    "print(\"pavan's friend is narendra\")"
   ]
  },
  {
   "cell_type": "code",
   "execution_count": 3,
   "id": "927680d2-d564-4060-930f-2406817999f7",
   "metadata": {},
   "outputs": [
    {
     "name": "stdout",
     "output_type": "stream",
     "text": [
      "1\n",
      "None\n"
     ]
    }
   ],
   "source": [
    "#Returns the value for key if it exists, else returns default.\n",
    "dict={'a':1}\n",
    "print(dict.get('a'))\n",
    "print(dict.get('b'))"
   ]
  },
  {
   "cell_type": "code",
   "execution_count": 13,
   "id": "3cd206eb-87a3-48d3-9e7f-8e8ef590693d",
   "metadata": {},
   "outputs": [
    {
     "data": {
      "text/plain": [
       "{'a': 1, 'b': 2, 'c': 4}"
      ]
     },
     "execution_count": 13,
     "metadata": {},
     "output_type": "execute_result"
    }
   ],
   "source": [
    "#Returns the value for key if it exists, else returns default.\n",
    "dict={'a':1,'b':2,'c':4}\n",
    "dict.items()\n",
    "dict"
   ]
  },
  {
   "cell_type": "code",
   "execution_count": 15,
   "id": "392ad9e5-9bce-4cb5-9e8a-1fbb841fee4a",
   "metadata": {},
   "outputs": [
    {
     "name": "stdout",
     "output_type": "stream",
     "text": [
      "dict_keys(['a', 'b', 'c'])\n"
     ]
    }
   ],
   "source": [
    "d={'a':1,'b':2,'c':3}\n",
    "print(d.keys())\n"
   ]
  },
  {
   "cell_type": "code",
   "execution_count": 17,
   "id": "d75a3637-56ab-40e2-a508-cc560e726b72",
   "metadata": {},
   "outputs": [
    {
     "name": "stdout",
     "output_type": "stream",
     "text": [
      "dict_values([1, 2, 3])\n"
     ]
    }
   ],
   "source": [
    "#Returns a view of dictionary values.\n",
    "d={'a':1,'b':2,'c':3}\n",
    "print(d.values())"
   ]
  },
  {
   "cell_type": "code",
   "execution_count": 21,
   "id": "f2f4fc1b-2757-4f48-98ac-484e5843d505",
   "metadata": {},
   "outputs": [
    {
     "name": "stdout",
     "output_type": "stream",
     "text": [
      "{'a': 1, 'c': 3}\n"
     ]
    }
   ],
   "source": [
    "#Removes specified key and returns the value. Returns default if key not found.\n",
    "d={'a':1,'b':2,'c':3}\n",
    "d.pop('b')\n",
    "print(d)"
   ]
  },
  {
   "cell_type": "code",
   "execution_count": 14,
   "id": "af393103-9879-47f8-873a-fae64721a0f5",
   "metadata": {},
   "outputs": [
    {
     "name": "stdout",
     "output_type": "stream",
     "text": [
      "{'a': 1, 'b': 2}\n"
     ]
    }
   ],
   "source": [
    "#Removes and returns the last inserted (key, value) pair (from Python 3.7+).\n",
    "d={'a':1,'b':2,'c':3}\n",
    "d.popitem()\n",
    "print(d)"
   ]
  },
  {
   "cell_type": "code",
   "execution_count": 22,
   "id": "6ab0e702-8616-4a19-99f2-5caac293006d",
   "metadata": {},
   "outputs": [
    {
     "name": "stdout",
     "output_type": "stream",
     "text": [
      "{'a': 1, 'b': 2, 'c': 3, 'd': 5}\n"
     ]
    }
   ],
   "source": [
    "#Returns the value of key. If not present, inserts key with default.\n",
    "d={'a':1,'b':2,'c':3}\n",
    "val=d.setdefault('d',5)\n",
    "print(d)"
   ]
  },
  {
   "cell_type": "code",
   "execution_count": 24,
   "id": "613e40bb-cd3e-42b5-9813-259195ec1ea2",
   "metadata": {},
   "outputs": [
    {
     "name": "stdout",
     "output_type": "stream",
     "text": [
      "{'a': 1, 'b': 2, 'c': 3, 'd': [7, 8, 9, 0], 'e': 9}\n"
     ]
    }
   ],
   "source": [
    "#Updates dictionary with elements from another dictionary or key-value pairs.\n",
    "d={'a':1,'b':2,'c':3}\n",
    "e=({'d':[7,8,9,0],'e':9})\n",
    "c={**d,**e}\n",
    "print(c)\n",
    "#print(a)"
   ]
  },
  {
   "cell_type": "code",
   "execution_count": 9,
   "id": "7e50e6fc-f59a-4563-9751-2e54907866c7",
   "metadata": {},
   "outputs": [
    {
     "data": {
      "text/plain": [
       "[1, 2, 3, 4, 5, 6]"
      ]
     },
     "execution_count": 9,
     "metadata": {},
     "output_type": "execute_result"
    }
   ],
   "source": [
    "list=[1,2,3]\n",
    "list2=[4,5,6]\n",
    "list3=[*list,*list2]\n",
    "list3"
   ]
  },
  {
   "cell_type": "code",
   "execution_count": 53,
   "id": "2355b122-b008-4784-8b9f-f6bd2dbd7d6c",
   "metadata": {},
   "outputs": [
    {
     "name": "stdout",
     "output_type": "stream",
     "text": [
      "a\n",
      "b\n",
      "c\n"
     ]
    }
   ],
   "source": [
    "\n",
    "d={'a':1,'b':2,'c':3}\n",
    "nax_value=0\n",
    "for v in "
   ]
  },
  {
   "cell_type": "code",
   "execution_count": 28,
   "id": "e9d99576-4af6-4804-9b1b-5bdc516dfaa6",
   "metadata": {},
   "outputs": [
    {
     "name": "stdout",
     "output_type": "stream",
     "text": [
      "{'a': 1, 'b': 2, 'c': 3}\n"
     ]
    }
   ],
   "source": [
    "d={'a':1,'b':2}\n",
    "c_d=d.copy()\n",
    "c_d['c']=3\n",
    "print(c_d)\n"
   ]
  },
  {
   "cell_type": "code",
   "execution_count": 36,
   "id": "2e51fab6-3047-403b-967f-7c591e2b6231",
   "metadata": {},
   "outputs": [
    {
     "name": "stdout",
     "output_type": "stream",
     "text": [
      "{'p': 1, 'a': 2, 'v': 1, 'n': 1}\n"
     ]
    }
   ],
   "source": [
    "str1=\"pavan\"\n",
    "d={}\n",
    "for i in str1:\n",
    "    if i in d:\n",
    "        d[i]+=1\n",
    "    else:\n",
    "        d[i]=1\n",
    "print(d)"
   ]
  },
  {
   "cell_type": "code",
   "execution_count": null,
   "id": "a018f1f9-3dac-4ef6-850f-86fbf5bfc1c3",
   "metadata": {},
   "outputs": [],
   "source": []
  }
 ],
 "metadata": {
  "kernelspec": {
   "display_name": "Python [conda env:base] *",
   "language": "python",
   "name": "conda-base-py"
  },
  "language_info": {
   "codemirror_mode": {
    "name": "ipython",
    "version": 3
   },
   "file_extension": ".py",
   "mimetype": "text/x-python",
   "name": "python",
   "nbconvert_exporter": "python",
   "pygments_lexer": "ipython3",
   "version": "3.12.7"
  }
 },
 "nbformat": 4,
 "nbformat_minor": 5
}
