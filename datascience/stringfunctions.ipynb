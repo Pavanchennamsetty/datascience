{
 "cells": [
  {
   "cell_type": "code",
   "execution_count": 1,
   "id": "0d412ab9-1420-4e12-aab0-020ced0bb92e",
   "metadata": {},
   "outputs": [
    {
     "name": "stdout",
     "output_type": "stream",
     "text": [
      "PAVAN\n"
     ]
    }
   ],
   "source": [
    "#string functions\n",
    "#Converts all characters to uppercase.\n",
    "text=\"pavan\"\n",
    "print(text.upper())"
   ]
  },
  {
   "cell_type": "code",
   "execution_count": 3,
   "id": "cdbeb741-c1d4-469c-ad08-e8794eff3b86",
   "metadata": {},
   "outputs": [
    {
     "name": "stdout",
     "output_type": "stream",
     "text": [
      " pavan\n",
      " pavan\n",
      "pavAN\n"
     ]
    }
   ],
   "source": [
    "#onverts all characters to lowercase.\n",
    "#Capitalizes the first letter.\n",
    "text=\" pavAN\"\n",
    "print(text.lower())\n",
    "print(text.capitalize())\n",
    "print(text.strip())"
   ]
  },
  {
   "cell_type": "code",
   "execution_count": 9,
   "id": "701073cc-7ea4-4c5f-88e2-63a1cd2e8a01",
   "metadata": {},
   "outputs": [
    {
     "name": "stdout",
     "output_type": "stream",
     "text": [
      "pavan\n"
     ]
    }
   ],
   "source": [
    "#Removes leading and trailing spaces.\n",
    "text=\"  pavan      \"\n",
    "print(text.strip())"
   ]
  },
  {
   "cell_type": "code",
   "execution_count": 107,
   "id": "ba2e04a1-0f76-4b20-8ff8-4e379beb52b7",
   "metadata": {},
   "outputs": [
    {
     "name": "stdout",
     "output_type": "stream",
     "text": [
      "6\n"
     ]
    }
   ],
   "source": [
    "#Returns the index of the first occurrence.\n",
    "\n",
    "text=\"Hello world\"\n",
    "print(text.find(\"world\"))"
   ]
  },
  {
   "cell_type": "code",
   "execution_count": 17,
   "id": "615fa10c-96ac-46ce-9565-bc9f448214d4",
   "metadata": {},
   "outputs": [
    {
     "name": "stdout",
     "output_type": "stream",
     "text": [
      "pavan is a singer\n"
     ]
    }
   ],
   "source": [
    "#Replaces a substring.\n",
    "text=\"pavan is a dancer\"\n",
    "print(text.replace(\"dancer\",\"singer\"))"
   ]
  },
  {
   "cell_type": "code",
   "execution_count": 109,
   "id": "11698a9e-c60f-4fbb-a518-e928dd344558",
   "metadata": {},
   "outputs": [
    {
     "name": "stdout",
     "output_type": "stream",
     "text": [
      "5\n"
     ]
    }
   ],
   "source": [
    "#Gives the length of the string.\n",
    "text=\"pavan\"\n",
    "print(len(text))"
   ]
  },
  {
   "cell_type": "code",
   "execution_count": 15,
   "id": "d89830f5-4abe-4f68-af17-33179011e48f",
   "metadata": {},
   "outputs": [
    {
     "name": "stdout",
     "output_type": "stream",
     "text": [
      "True\n",
      "False\n"
     ]
    }
   ],
   "source": [
    "#Checks if string starts with a substring.\n",
    "#hecks if string ends with a substring.\n",
    "text=\"Hello world\"\n",
    "abd=text.startswith(\"Hello\")\n",
    "print(abd)\n",
    "print(text.endswith(\"Hello\"))"
   ]
  },
  {
   "cell_type": "code",
   "execution_count": 25,
   "id": "4a885630-144a-4ae0-88fe-4cd1641430ec",
   "metadata": {},
   "outputs": [
    {
     "name": "stdout",
     "output_type": "stream",
     "text": [
      "['a', 'b', 'c']\n"
     ]
    }
   ],
   "source": [
    "#Splits string into list based on separator.\n",
    "text=\"a,b,c\"\n",
    "print(text.split(','))"
   ]
  },
  {
   "cell_type": "code",
   "execution_count": 13,
   "id": "a72e1f94-0521-4b29-841a-3d69beaa07d8",
   "metadata": {},
   "outputs": [
    {
     "name": "stdout",
     "output_type": "stream",
     "text": [
      "a,b,c\n"
     ]
    }
   ],
   "source": [
    "#Joins a list into a string using a separator\n",
    "text=['a','b','c']\n",
    "print(','.join(text))"
   ]
  },
  {
   "cell_type": "code",
   "execution_count": 141,
   "id": "19b34b32-c766-4c9f-85ee-854414f7e8cf",
   "metadata": {},
   "outputs": [
    {
     "name": "stdout",
     "output_type": "stream",
     "text": [
      "Pavan Is An  Officer\n"
     ]
    }
   ],
   "source": [
    "#Capitalizes first letter of each word.\n",
    "text=\"pavan is an  officer\"\n",
    "print(text.title())"
   ]
  },
  {
   "cell_type": "code",
   "execution_count": 15,
   "id": "d5dd73d2-d6ab-48fa-a24c-f81907ceb12f",
   "metadata": {},
   "outputs": [
    {
     "name": "stdout",
     "output_type": "stream",
     "text": [
      "False\n"
     ]
    }
   ],
   "source": [
    "#checks if all characters are lowercase.\n",
    "text=\"pavan is A hero\"\n",
    "print(text.islower())"
   ]
  },
  {
   "cell_type": "code",
   "execution_count": 17,
   "id": "df646769-23ad-4ca6-913b-6f23fffffcd8",
   "metadata": {},
   "outputs": [
    {
     "name": "stdout",
     "output_type": "stream",
     "text": [
      "True\n"
     ]
    }
   ],
   "source": [
    "text=\"PAVAN IS A HERO\"\n",
    "print(text.isupper())"
   ]
  },
  {
   "cell_type": "code",
   "execution_count": 19,
   "id": "12014849-3cb4-4e84-ad8d-74029e361360",
   "metadata": {},
   "outputs": [
    {
     "name": "stdout",
     "output_type": "stream",
     "text": [
      "True\n"
     ]
    }
   ],
   "source": [
    "#Checks if all characters are digits.\n",
    "text=\"123465468\"\n",
    "print(text.isdigit())"
   ]
  },
  {
   "cell_type": "code",
   "execution_count": 33,
   "id": "5fc43976-75b9-4408-96c0-0e308046e1e6",
   "metadata": {},
   "outputs": [
    {
     "name": "stdout",
     "output_type": "stream",
     "text": [
      "True\n"
     ]
    }
   ],
   "source": [
    "text=\"hellopavan\"\n",
    "print(text.isalpha())"
   ]
  },
  {
   "cell_type": "code",
   "execution_count": 35,
   "id": "62de7682-69ce-49e2-89a2-5a40fc594fe0",
   "metadata": {},
   "outputs": [
    {
     "name": "stdout",
     "output_type": "stream",
     "text": [
      "True\n"
     ]
    }
   ],
   "source": [
    "#Checks if all characters are numeric (including Unicode numbers).\n",
    "text = \"123\"\n",
    "print(text.isnumeric())  "
   ]
  },
  {
   "cell_type": "code",
   "execution_count": 37,
   "id": "474fef8a-149d-4947-86eb-4ffb2e7aad40",
   "metadata": {},
   "outputs": [
    {
     "name": "stdout",
     "output_type": "stream",
     "text": [
      "True\n"
     ]
    }
   ],
   "source": [
    "#Checks if each word starts with an uppercase letter.\n",
    "text = \"Hello World\"\n",
    "print(text.istitle())\n"
   ]
  },
  {
   "cell_type": "code",
   "execution_count": 39,
   "id": "b87ef121-09ba-4126-8f65-7df43a242c97",
   "metadata": {},
   "outputs": [
    {
     "name": "stdout",
     "output_type": "stream",
     "text": [
      "True\n"
     ]
    }
   ],
   "source": [
    "#Checks if the string contains only whitespace.\n",
    "text = \" \"\n",
    "print(text.isspace())"
   ]
  },
  {
   "cell_type": "code",
   "execution_count": 41,
   "id": "df936212-766b-4103-a661-ac02255b4a53",
   "metadata": {},
   "outputs": [
    {
     "name": "stdout",
     "output_type": "stream",
     "text": [
      "2\n"
     ]
    }
   ],
   "source": [
    "#Returns the index of the first occurrence (like find(), but throws an error if not found).\n",
    "text = \"python\"\n",
    "print(text.index(\"t\"))  "
   ]
  },
  {
   "cell_type": "code",
   "execution_count": 1,
   "id": "1191cf1e-57b4-44e5-a961-77ba58ed64e3",
   "metadata": {},
   "outputs": [
    {
     "name": "stdout",
     "output_type": "stream",
     "text": [
      "0\n"
     ]
    }
   ],
   "source": [
    "#Finds the last occurrence of a substring.\n",
    "text = \"hello hello\"\n",
    "print(text.find(\"hello\"))  "
   ]
  },
  {
   "cell_type": "code",
   "execution_count": 21,
   "id": "85f1448e-b335-4238-b855-3b2b6df0dae7",
   "metadata": {},
   "outputs": [
    {
     "name": "stdout",
     "output_type": "stream",
     "text": [
      "1\n"
     ]
    }
   ],
   "source": [
    "#Like rfind(), but throws an error if not found.\n",
    "text = \"1abncdbc\"\n",
    "print(text.rindex(\"a\")) \n"
   ]
  },
  {
   "cell_type": "code",
   "execution_count": 57,
   "id": "8781fec0-bf49-49ab-9382-0d79a381a8af",
   "metadata": {},
   "outputs": [
    {
     "name": "stdout",
     "output_type": "stream",
     "text": [
      "hELLO\n"
     ]
    }
   ],
   "source": [
    "#Swaps lowercase to uppercase and vice versa\n",
    "text = \"Hello\"\n",
    "print(text.swapcase())  # Output: \"hELLO\"\n"
   ]
  },
  {
   "cell_type": "code",
   "execution_count": 59,
   "id": "e4741649-f00a-484d-bd5a-c130a2e3af94",
   "metadata": {},
   "outputs": [
    {
     "name": "stdout",
     "output_type": "stream",
     "text": [
      "3\n"
     ]
    }
   ],
   "source": [
    "#Counts how many times a substring appears.\n",
    "text = \"banana\"\n",
    "print(text.count(\"a\"))  "
   ]
  },
  {
   "cell_type": "code",
   "execution_count": 3,
   "id": "118d1333-cd8a-48da-9575-e5b76416a55c",
   "metadata": {},
   "outputs": [
    {
     "name": "stdout",
     "output_type": "stream",
     "text": [
      "000042\n"
     ]
    }
   ],
   "source": [
    "#Pads the string on the left with zeros to make it width long.\n",
    "text = \"42\"\n",
    "print(text.zfill(6))  \n"
   ]
  },
  {
   "cell_type": "code",
   "execution_count": 25,
   "id": "9fb2fc6b-bf62-437f-adb9-504d5616800a",
   "metadata": {},
   "outputs": [
    {
     "name": "stdout",
     "output_type": "stream",
     "text": [
      "hello  \n"
     ]
    }
   ],
   "source": [
    "#Removes spaces or characters from the left side.\n",
    "text = \"hello  \"\n",
    "print(text.lstrip())  "
   ]
  },
  {
   "cell_type": "code",
   "execution_count": 27,
   "id": "cd36710c-7ba6-4522-8143-1a3875543ba0",
   "metadata": {},
   "outputs": [
    {
     "name": "stdout",
     "output_type": "stream",
     "text": [
      "hello\n"
     ]
    }
   ],
   "source": [
    "#Removes spaces or characters from the right side.\n",
    "text = \"hello   \"\n",
    "print(text.rstrip())  \n",
    "\n"
   ]
  },
  {
   "cell_type": "code",
   "execution_count": 29,
   "id": "9435b34f-064e-4169-8bc1-747bbd129d12",
   "metadata": {},
   "outputs": [
    {
     "name": "stdout",
     "output_type": "stream",
     "text": [
      "True\n"
     ]
    }
   ],
   "source": [
    "#Checks if the string is a valid Python identifier (like variable name).\n",
    "text = \"var1\"\n",
    "print(text.isidentifier())  \n"
   ]
  },
  {
   "cell_type": "code",
   "execution_count": 87,
   "id": "3983e717-439b-42ff-be7c-174286d6a4f4",
   "metadata": {},
   "outputs": [
    {
     "name": "stdout",
     "output_type": "stream",
     "text": [
      "b'hello'\n"
     ]
    }
   ],
   "source": [
    "#Encodes string to bytes (useful in file handling or network).\n",
    "text = \"hello\"\n",
    "print(text.encode())  "
   ]
  },
  {
   "cell_type": "code",
   "execution_count": 5,
   "id": "d9de2217-4a1b-4f9e-9452-fe86101cdc71",
   "metadata": {},
   "outputs": [
    {
     "name": "stdout",
     "output_type": "stream",
     "text": [
      "---hi---\n"
     ]
    }
   ],
   "source": [
    "#Centers the string in a field of given width.\n",
    "text = \"hi\"\n",
    "print(text.center(8, \"-\")) \n"
   ]
  },
  {
   "cell_type": "code",
   "execution_count": null,
   "id": "3dd155a6-99f6-4a5f-a535-737502c6dd97",
   "metadata": {},
   "outputs": [],
   "source": [
    "\n"
   ]
  },
  {
   "cell_type": "code",
   "execution_count": 15,
   "id": "6d1a636b-35dc-45bf-87cb-41387481cfed",
   "metadata": {},
   "outputs": [
    {
     "name": "stdout",
     "output_type": "stream",
     "text": [
      "{'a': 1, 'b': 2, 'c': 3}\n"
     ]
    }
   ],
   "source": [
    "x=['a','b','c',]\n",
    "y=[1,2,3]\n",
    "z=dict(zip(x,y))\n",
    "print(z)\n"
   ]
  },
  {
   "cell_type": "code",
   "execution_count": 49,
   "id": "9fc2b20c-0004-4cb9-85a5-d6d7f13155ff",
   "metadata": {},
   "outputs": [
    {
     "name": "stdout",
     "output_type": "stream",
     "text": [
      "5\n",
      "11\n"
     ]
    }
   ],
   "source": [
    "def add(a,b):\n",
    "    sum=a+b\n",
    "    print(sum)\n",
    "add(2,3)\n",
    "add(5,6)\n",
    "    "
   ]
  },
  {
   "cell_type": "code",
   "execution_count": 3,
   "id": "ef83fc8d-62cd-4b5f-9e3c-d428493b8475",
   "metadata": {},
   "outputs": [
    {
     "ename": "NameError",
     "evalue": "name 'y' is not defined",
     "output_type": "error",
     "traceback": [
      "\u001b[1;31m---------------------------------------------------------------------------\u001b[0m",
      "\u001b[1;31mNameError\u001b[0m                                 Traceback (most recent call last)",
      "Cell \u001b[1;32mIn[3], line 10\u001b[0m\n\u001b[0;32m      8\u001b[0m     \u001b[38;5;28;01mreturn\u001b[39;00m x\n\u001b[0;32m      9\u001b[0m x\u001b[38;5;241m=\u001b[39m[\u001b[38;5;241m1\u001b[39m,\u001b[38;5;241m2\u001b[39m,\u001b[38;5;241m4\u001b[39m,\u001b[38;5;241m5\u001b[39m]\n\u001b[1;32m---> 10\u001b[0m \u001b[38;5;28mprint\u001b[39m(tar_val(x,y,tar_val))\n",
      "\u001b[1;31mNameError\u001b[0m: name 'y' is not defined"
     ]
    }
   ],
   "source": [
    "def tar_val(x,y,tar_val):\n",
    "    tar_val=9\n",
    "    for i in range(len(x)):\n",
    "        for j in range(i+1,len(x)):\n",
    "            for z in range(i+2,len(x)):\n",
    "                if x[i]+x[j]+x[z]==tar_val:\n",
    "                    return i,j,z\n",
    "    return x\n",
    "x=[1,2,4,5]\n",
    "print(tar_val(x,y,tar_val))"
   ]
  },
  {
   "cell_type": "code",
   "execution_count": null,
   "id": "61967a34-80e8-4d6c-882f-4d55f9e81bff",
   "metadata": {},
   "outputs": [],
   "source": []
  }
 ],
 "metadata": {
  "kernelspec": {
   "display_name": "Python [conda env:base] *",
   "language": "python",
   "name": "conda-base-py"
  },
  "language_info": {
   "codemirror_mode": {
    "name": "ipython",
    "version": 3
   },
   "file_extension": ".py",
   "mimetype": "text/x-python",
   "name": "python",
   "nbconvert_exporter": "python",
   "pygments_lexer": "ipython3",
   "version": "3.12.7"
  }
 },
 "nbformat": 4,
 "nbformat_minor": 5
}
