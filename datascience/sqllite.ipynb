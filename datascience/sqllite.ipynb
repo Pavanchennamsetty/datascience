{
 "cells": [
  {
   "cell_type": "code",
   "execution_count": 24,
   "id": "0ba192e5-1e2d-468f-bea1-85c680b89979",
   "metadata": {},
   "outputs": [
    {
     "name": "stdout",
     "output_type": "stream",
     "text": [
      "(1, 'pavan', 22, 'hyderbad')\n",
      "(1, 'pavan', 22, 'hyderbad')\n",
      "(2, 'prasad', 23, 'hyderbad')\n",
      "(1, 'pavan', 22, 'hyderbad')\n",
      "(2, 'prasad', 23, 'hyderbad')\n"
     ]
    }
   ],
   "source": [
    "import sqlite3\n",
    "db=\"student.db\"\n",
    "conn=sqlite3.connect(db)\n",
    "conn.execute(\"\"\"create table if not exists stud1(\n",
    "            stud_id int,\n",
    "            stud_name varchar(20),\n",
    "            stud_age int,\n",
    "            stud_address varchar(20))\"\"\")\n",
    "conn.execute(\"insert into stud1 values(1,'pavan',22,'hyderbad'),(2,'prasad',23,'hyderbad')\")\n",
    "a=conn.execute(\"select *from stud1\")\n",
    "for i in a:\n",
    "    print(i)\n",
    "conn.commit()"
   ]
  },
  {
   "cell_type": "code",
   "execution_count": null,
   "id": "fc3af7b7-a84e-4b86-8685-8ded062dad29",
   "metadata": {},
   "outputs": [],
   "source": []
  },
  {
   "cell_type": "code",
   "execution_count": null,
   "id": "436a4130-15fc-4bd7-b4cf-b68a9a69d8a2",
   "metadata": {},
   "outputs": [],
   "source": []
  }
 ],
 "metadata": {
  "kernelspec": {
   "display_name": "Python [conda env:base] *",
   "language": "python",
   "name": "conda-base-py"
  },
  "language_info": {
   "codemirror_mode": {
    "name": "ipython",
    "version": 3
   },
   "file_extension": ".py",
   "mimetype": "text/x-python",
   "name": "python",
   "nbconvert_exporter": "python",
   "pygments_lexer": "ipython3",
   "version": "3.12.7"
  }
 },
 "nbformat": 4,
 "nbformat_minor": 5
}
