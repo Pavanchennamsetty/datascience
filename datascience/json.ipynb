{
 "cells": [
  {
   "cell_type": "code",
   "execution_count": 3,
   "id": "ac8c920b-baa0-409b-bc3d-b40f386c8181",
   "metadata": {},
   "outputs": [
    {
     "name": "stdout",
     "output_type": "stream",
     "text": [
      "{'Name': 'David', 'Class': 'I', 'age': 6}\n",
      "\n",
      "JSON data:\n",
      "\n",
      "Name:  David\n",
      "Class:  I\n",
      "Age:  6\n"
     ]
    }
   ],
   "source": [
    "#Write a Python program to convert JSON data to Python object.\n",
    "import json\n",
    "json_obj =  '{ \"Name\":\"David\", \"Class\":\"I\", \"age\":6 }'\n",
    "python_obj = json.loads(json_obj)\n",
    "print(python_obj)\n",
    "print(\"\\nJSON data:\")\n",
    "print(\"\\nName: \",python_obj[\"Name\"])\n",
    "print(\"Class: \",python_obj[\"Class\"])\n",
    "print(\"Age: \",python_obj[\"age\"]) "
   ]
  },
  {
   "cell_type": "code",
   "execution_count": 5,
   "id": "23c85332-e7a7-47ce-bf19-6cd3b5267145",
   "metadata": {},
   "outputs": [
    {
     "name": "stdout",
     "output_type": "stream",
     "text": [
      "<class 'dict'>\n",
      "{\"name\": \"pavan\", \"age\": 22, \"address\": \"hyderbad\"}\n"
     ]
    }
   ],
   "source": [
    "#Write a Python program to convert Python object to JSON data.\n",
    "import json\n",
    "p_obj={\"name\":'pavan',\"age\":22,\"address\":\"hyderbad\"}\n",
    "print(type(p_obj))\n",
    "j_data=json.dumps(p_obj)\n",
    "print(j_data)"
   ]
  },
  {
   "cell_type": "code",
   "execution_count": 9,
   "id": "5b0c4e0d-e2b5-428a-907e-74b5c144892c",
   "metadata": {},
   "outputs": [
    {
     "name": "stdout",
     "output_type": "stream",
     "text": [
      "json_dict {\"name\": \"pavan\", \"age\": 22, \"address\": \"hyderbad\"}\n",
      "json_list [1, 2, 3, 4, 5]\n",
      "json_t [1, 2, 3, 4]\n",
      "json_str \"pavan\"\n",
      "json_s [1, 2, 6, 7]\n"
     ]
    }
   ],
   "source": [
    "#Write a Python program to convert Python objects into JSON strings. Print all the values.\n",
    "import json\n",
    "python_dict={\"name\":'pavan',\"age\":22,\"address\":\"hyderbad\"}\n",
    "python_list=[1,2,3,4,5]\n",
    "python_t=(1,2,3,4)\n",
    "python_str='pavan'\n",
    "python_s={1,2,7,6}\n",
    "\n",
    "json_dict=json.dumps(python_dict)\n",
    "json_list=json.dumps(python_list)\n",
    "json_t=json.dumps(python_t)\n",
    "json_str=json.dumps(python_str)\n",
    "json_s=json.dumps(list(python_s))\n",
    "\n",
    "\n",
    "print(\"json_dict\",json_dict)\n",
    "print(\"json_list\",json_list)\n",
    "print(\"json_t\",json_t)\n",
    "print(\"json_str\",json_str)\n",
    "print(\"json_s\",json_s)\n"
   ]
  },
  {
   "cell_type": "code",
   "execution_count": 7,
   "id": "732e461b-5334-4579-b213-0bb5d02e9790",
   "metadata": {},
   "outputs": [
    {
     "name": "stdout",
     "output_type": "stream",
     "text": [
      "json dict :  {\"name\": \"David\", \"age\": 6, \"class\": \"I\"}\n",
      "jason list :  [\"Red\", \"Green\", \"Black\"]\n",
      "json string :  \"Python Json\"\n",
      "json t true\n"
     ]
    }
   ],
   "source": [
    "import json\n",
    "python_dict =  {\"name\": \"David\", \"age\": 6, \"class\":\"I\"}\n",
    "python_list =  [\"Red\", \"Green\", \"Black\"]\n",
    "python_str =  \"Python Json\"\n",
    "python_T =  (True)\n",
    "\n",
    "\n",
    "json_dict = json.dumps(python_dict)\n",
    "json_list = json.dumps(python_list)\n",
    "json_str = json.dumps(python_str)\n",
    "json_t = json.dumps(python_T)\n",
    " \n",
    "\n",
    "print(\"json dict : \", json_dict)\n",
    "print(\"jason list : \", json_list)\n",
    "print(\"json string : \", json_str)\n",
    "print(\"json t\",json_t)"
   ]
  },
  {
   "cell_type": "code",
   "execution_count": 7,
   "id": "317612cf-3d44-4736-873d-3779b838279f",
   "metadata": {},
   "outputs": [
    {
     "name": "stdout",
     "output_type": "stream",
     "text": [
      "<class 'dict'>\n",
      "{'name': 'David', 'age': 6, 'class': 'I'}\n",
      "<class 'str'>\n",
      "{\"name\": \"David\", \"age\": 6, \"class\": \"I\"}\n"
     ]
    }
   ],
   "source": [
    "#Write a Python program to convert Python dictionary object (sort by key) to JSON data. Print the object members with indent level 4.\n",
    "import json\n",
    "py_dict={\"name\": \"David\", \"age\": 6, \"class\": \"I\"}\n",
    "print(type(py_dict))\n",
    "print(py_dict)\n",
    "j_dict=json.dumps(py_dict)\n",
    "print(type(j_dict))\n",
    "print(j_dict)"
   ]
  },
  {
   "cell_type": "code",
   "execution_count": 21,
   "id": "eb88985f-a6dc-4e88-9078-d1670eaeb829",
   "metadata": {},
   "outputs": [
    {
     "name": "stdout",
     "output_type": "stream",
     "text": [
      "python dictionary {'name': 'pavan', 'age': 22, 'address': 'hyderbad'}\n",
      "python list [1, 2, 3, 4, 5]\n",
      "python tuple (1, 2, 3, 4)\n",
      "python string pavan\n"
     ]
    }
   ],
   "source": [
    "#Write a Python program to convert JSON encoded data into Python objects.\n",
    "import json\n",
    "j_dict='{\"name\": \"pavan\", \"age\": 22, \"address\": \"hyderbad\"}'\n",
    "j_list='[1,2,3,4,5]'\n",
    "j_t='[1,2,3,4]'\n",
    "j_str='\"pavan\"'\n",
    "py_dict=json.loads(j_dict)\n",
    "py_list=json.loads(j_list)\n",
    "py_t=tuple(json.loads(j_t))\n",
    "py_str=json.loads(j_str)\n",
    "print(\"python dictionary\",py_dict)\n",
    "print(\"python list\",py_list)\n",
    "print(\"python tuple\",py_t)\n",
    "print(\"python string\",py_str)"
   ]
  },
  {
   "cell_type": "code",
   "execution_count": 29,
   "id": "176ea715-2754-4543-a66e-fb5547705244",
   "metadata": {},
   "outputs": [
    {
     "name": "stdout",
     "output_type": "stream",
     "text": [
      "3.12.7 | packaged by Anaconda, Inc. | (main, Oct  4 2024, 13:17:27) [MSC v.1929 64 bit (AMD64)]\n",
      "sys.version_info(major=3, minor=12, micro=7, releaselevel='final', serial=0)\n"
     ]
    }
   ],
   "source": [
    "import sys\n",
    "print(sys.version)\n",
    "print(sys.version_info)"
   ]
  },
  {
   "cell_type": "code",
   "execution_count": 11,
   "id": "123dd1a4-cfb0-4b9f-a408-2c5c81bc1d56",
   "metadata": {},
   "outputs": [
    {
     "name": "stdout",
     "output_type": "stream",
     "text": [
      "current date and time\n",
      "2025-06-18 16:41:23\n"
     ]
    }
   ],
   "source": [
    "import datetime\n",
    "now=datetime.datetime.now()\n",
    "print(\"current date and time\")\n",
    "print(now.strftime(\"%Y-%m-%d %H:%M:%S\"))\n",
    "      "
   ]
  },
  {
   "cell_type": "code",
   "execution_count": 33,
   "id": "b5cb0023-28ac-4663-89cd-b24b290e2334",
   "metadata": {},
   "outputs": [
    {
     "name": "stdin",
     "output_type": "stream",
     "text": [
      "enter radius of the circle 5\n"
     ]
    },
    {
     "name": "stdout",
     "output_type": "stream",
     "text": [
      "pi value is 3.141592653589793\n",
      "the area of the circle with radius 5.0is 78.53981633974483\n"
     ]
    }
   ],
   "source": [
    "from math import pi\n",
    "r=float(input(\"enter radius of the circle\"))\n",
    "print(\"pi value is\",pi)\n",
    "area=pi*r**2\n",
    "print(\"the area of the circle with radius \"+str(r)+\"is\",str(area))"
   ]
  },
  {
   "cell_type": "code",
   "execution_count": 9,
   "id": "5fced348-3b83-48f4-9bec-28cc4e0c9e73",
   "metadata": {},
   "outputs": [
    {
     "ename": "FileNotFoundError",
     "evalue": "[Errno 2] No such file or directory: 'test.txt'",
     "output_type": "error",
     "traceback": [
      "\u001b[1;31m---------------------------------------------------------------------------\u001b[0m",
      "\u001b[1;31mFileNotFoundError\u001b[0m                         Traceback (most recent call last)",
      "Cell \u001b[1;32mIn[9], line 10\u001b[0m\n\u001b[0;32m      7\u001b[0m         txt \u001b[38;5;241m=\u001b[39m \u001b[38;5;28mopen\u001b[39m(fname)\n\u001b[0;32m      8\u001b[0m         \u001b[38;5;28mprint\u001b[39m(txt\u001b[38;5;241m.\u001b[39mread())\n\u001b[1;32m---> 10\u001b[0m file_read(\u001b[38;5;124m'\u001b[39m\u001b[38;5;124mtest.txt\u001b[39m\u001b[38;5;124m'\u001b[39m)\n",
      "Cell \u001b[1;32mIn[9], line 7\u001b[0m, in \u001b[0;36mfile_read\u001b[1;34m(fname)\u001b[0m\n\u001b[0;32m      6\u001b[0m \u001b[38;5;28;01mdef\u001b[39;00m \u001b[38;5;21mfile_read\u001b[39m(fname):\n\u001b[1;32m----> 7\u001b[0m         txt \u001b[38;5;241m=\u001b[39m \u001b[38;5;28mopen\u001b[39m(fname)\n\u001b[0;32m      8\u001b[0m         \u001b[38;5;28mprint\u001b[39m(txt\u001b[38;5;241m.\u001b[39mread())\n",
      "File \u001b[1;32m~\\anaconda3\\Lib\\site-packages\\IPython\\core\\interactiveshell.py:324\u001b[0m, in \u001b[0;36m_modified_open\u001b[1;34m(file, *args, **kwargs)\u001b[0m\n\u001b[0;32m    317\u001b[0m \u001b[38;5;28;01mif\u001b[39;00m file \u001b[38;5;129;01min\u001b[39;00m {\u001b[38;5;241m0\u001b[39m, \u001b[38;5;241m1\u001b[39m, \u001b[38;5;241m2\u001b[39m}:\n\u001b[0;32m    318\u001b[0m     \u001b[38;5;28;01mraise\u001b[39;00m \u001b[38;5;167;01mValueError\u001b[39;00m(\n\u001b[0;32m    319\u001b[0m         \u001b[38;5;124mf\u001b[39m\u001b[38;5;124m\"\u001b[39m\u001b[38;5;124mIPython won\u001b[39m\u001b[38;5;124m'\u001b[39m\u001b[38;5;124mt let you open fd=\u001b[39m\u001b[38;5;132;01m{\u001b[39;00mfile\u001b[38;5;132;01m}\u001b[39;00m\u001b[38;5;124m by default \u001b[39m\u001b[38;5;124m\"\u001b[39m\n\u001b[0;32m    320\u001b[0m         \u001b[38;5;124m\"\u001b[39m\u001b[38;5;124mas it is likely to crash IPython. If you know what you are doing, \u001b[39m\u001b[38;5;124m\"\u001b[39m\n\u001b[0;32m    321\u001b[0m         \u001b[38;5;124m\"\u001b[39m\u001b[38;5;124myou can use builtins\u001b[39m\u001b[38;5;124m'\u001b[39m\u001b[38;5;124m open.\u001b[39m\u001b[38;5;124m\"\u001b[39m\n\u001b[0;32m    322\u001b[0m     )\n\u001b[1;32m--> 324\u001b[0m \u001b[38;5;28;01mreturn\u001b[39;00m io_open(file, \u001b[38;5;241m*\u001b[39margs, \u001b[38;5;241m*\u001b[39m\u001b[38;5;241m*\u001b[39mkwargs)\n",
      "\u001b[1;31mFileNotFoundError\u001b[0m: [Errno 2] No such file or directory: 'test.txt'"
     ]
    }
   ],
   "source": [
    ".'''\n",
    "def file_read(fname):\n",
    "        txt = open(fname)\n",
    "        print(txt.read())\n",
    "\n",
    "file_read('test.txt')\n"
   ]
  },
  {
   "cell_type": "code",
   "execution_count": null,
   "id": "65b977af-7ad5-4f0d-bc09-87b4e6fb3cc8",
   "metadata": {},
   "outputs": [],
   "source": []
  }
 ],
 "metadata": {
  "kernelspec": {
   "display_name": "Python [conda env:base] *",
   "language": "python",
   "name": "conda-base-py"
  },
  "language_info": {
   "codemirror_mode": {
    "name": "ipython",
    "version": 3
   },
   "file_extension": ".py",
   "mimetype": "text/x-python",
   "name": "python",
   "nbconvert_exporter": "python",
   "pygments_lexer": "ipython3",
   "version": "3.12.7"
  }
 },
 "nbformat": 4,
 "nbformat_minor": 5
}
