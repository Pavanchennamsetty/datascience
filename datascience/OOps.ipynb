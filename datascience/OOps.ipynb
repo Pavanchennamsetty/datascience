{
 "cells": [
  {
   "cell_type": "code",
   "execution_count": 1,
   "id": "0a730ece-b2aa-4b26-b836-47a6380bc48d",
   "metadata": {},
   "outputs": [
    {
     "name": "stdout",
     "output_type": "stream",
     "text": [
      "2\n",
      "2\n",
      "2\n"
     ]
    }
   ],
   "source": [
    "class pavan():\n",
    "    \n",
    "    def output(self,a):\n",
    "        self.a=a\n",
    "        print(self.a)\n",
    "b=pavan()\n",
    "b.output(2)\n",
    "c=pavan()\n",
    "c.output(2)\n",
    "print(b.a)\n",
    "\n"
   ]
  },
  {
   "cell_type": "code",
   "execution_count": 3,
   "id": "7fb0648b-bf2d-4fd6-86dc-9b64f8c48fd3",
   "metadata": {},
   "outputs": [
    {
     "name": "stdout",
     "output_type": "stream",
     "text": [
      "hello,pavan\n"
     ]
    }
   ],
   "source": [
    "class greeter():\n",
    "    def greet(self,name):\n",
    "        print(f\"hello,{name}\")\n",
    "#g=greeter()\n",
    "greeter().greet(\"pavan\")"
   ]
  },
  {
   "cell_type": "code",
   "execution_count": 5,
   "id": "b2f03abd-531a-4cbe-92c1-6fa55d364fd2",
   "metadata": {},
   "outputs": [
    {
     "name": "stdout",
     "output_type": "stream",
     "text": [
      "sum: 9\n",
      "sub: 1\n"
     ]
    }
   ],
   "source": [
    "class  calculator():\n",
    "    def __init__(self,a,b):\n",
    "        self.a=a\n",
    "        self.b=b\n",
    "        \n",
    "    def sub(self):\n",
    "        sum=self.a+self.b\n",
    "        sub=self.a-self.b\n",
    "        print(\"sum:\",sum)\n",
    "        print(\"sub:\",sub)\n",
    "s=calculator(5,4)\n",
    "s.sub()"
   ]
  },
  {
   "cell_type": "code",
   "execution_count": 99,
   "id": "6f9762cb-df62-4082-b15d-fe2cc6605487",
   "metadata": {},
   "outputs": [
    {
     "name": "stdout",
     "output_type": "stream",
     "text": [
      "name:alice\n",
      "id:123\n",
      "dept: cse\n"
     ]
    }
   ],
   "source": [
    "class employe():\n",
    "    def __init__(self,name,id,dept):\n",
    "        self.name=name\n",
    "        self.id=id\n",
    "        self.dept=dept\n",
    "    def display_details(self):\n",
    "        print(f\"name:{self.name}\\nid:{self.id}\\ndept: {self.dept}\")\n",
    "emp=employe(\"alice\",123,\"cse\")\n",
    "emp.display_details()"
   ]
  },
  {
   "cell_type": "code",
   "execution_count": 7,
   "id": "ddafead4-8835-48ef-9371-015ae85cbcbf",
   "metadata": {},
   "outputs": [
    {
     "data": {
      "text/plain": [
       "25"
      ]
     },
     "execution_count": 7,
     "metadata": {},
     "output_type": "execute_result"
    }
   ],
   "source": [
    "class seriescalc():\n",
    "    def sum(self,d,a=1,n=5):\n",
    "        return n*(2*a+(n-1)*d)//2\n",
    "cal=seriescalc()\n",
    "cal.sum(2)\n",
    "        "
   ]
  },
  {
   "cell_type": "code",
   "execution_count": 35,
   "id": "08d200f6-5a3f-4feb-a2ae-d3e24887af64",
   "metadata": {},
   "outputs": [
    {
     "name": "stdout",
     "output_type": "stream",
     "text": [
      "[<div class=\"KzDlHZ\">Apple iPhone 16 (Teal, 256 GB)</div>, <div class=\"KzDlHZ\">Apple iPhone 16 (White, 128 GB)</div>, <div class=\"KzDlHZ\">Apple iPhone 15 (Black, 128 GB)</div>, <div class=\"KzDlHZ\">Apple iPhone 15 (Pink, 128 GB)</div>, <div class=\"KzDlHZ\">Apple iPhone 13 (Starlight, 128 GB)</div>, <div class=\"KzDlHZ\">Apple iPhone 16 (Black, 128 GB)</div>, <div class=\"KzDlHZ\">Apple iPhone 13 (Midnight, 128 GB)</div>, <div class=\"KzDlHZ\">Apple iPhone 13 (Blue, 128 GB)</div>, <div class=\"KzDlHZ\">Apple iPhone 16 (Ultramarine, 128 GB)</div>, <div class=\"KzDlHZ\">Apple iPhone 15 (Green, 128 GB)</div>, <div class=\"KzDlHZ\">Apple iPhone 16 (Black, 256 GB)</div>, <div class=\"KzDlHZ\">Apple iPhone 14 (Starlight, 128 GB)</div>, <div class=\"KzDlHZ\">Apple iPhone 16 (Ultramarine, 256 GB)</div>, <div class=\"KzDlHZ\">Apple iPhone 16 (Pink, 128 GB)</div>, <div class=\"KzDlHZ\">Apple iPhone 16e (Black, 128 GB)</div>, <div class=\"KzDlHZ\">Apple iPhone 16 Plus (Black, 256 GB)</div>, <div class=\"KzDlHZ\">Apple iPhone 14 (Midnight, 128 GB)</div>, <div class=\"KzDlHZ\">Apple iPhone 14 (Blue, 128 GB)</div>, <div class=\"KzDlHZ\">Apple iPhone 16 (Pink, 256 GB)</div>, <div class=\"KzDlHZ\">Apple iPhone 14 (Midnight, 256 GB)</div>, <div class=\"KzDlHZ\">Apple iPhone 16e (Black, 256 GB)</div>, <div class=\"KzDlHZ\">Apple iPhone 15 (Blue, 256 GB)</div>, <div class=\"KzDlHZ\">Apple iPhone 15 Plus (Black, 128 GB)</div>, <div class=\"KzDlHZ\">Apple iPhone 15 (Blue, 128 GB)</div>]\n",
      "['Apple iPhone 16e (Black, 256 GB)']\n"
     ]
    }
   ],
   "source": [
    "import requests\n",
    "import pandas \n",
    "from bs4 import BeautifulSoup\n",
    "response=requests.get(\"https://www.flipkart.com/search?q=iphone&otracker=search&otracker1=search&marketplace=FLIPKART&as-show=on&as=off\")\n",
    "#print(response)\n",
    "Soup=BeautifulSoup(response.content,'html.parser')\n",
    "#print(Soup)\n",
    "names=Soup.find_all('div',class_='KzDlHZ')\n",
    "print(names)\n",
    "name=[]\n",
    "for i in names[20]:\n",
    "    d=i.text\n",
    "    name.append(d)\n",
    "print(name)"
   ]
  },
  {
   "cell_type": "code",
   "execution_count": 15,
   "id": "2f3d09d0-c596-4b21-a8f8-0626345bbc43",
   "metadata": {},
   "outputs": [
    {
     "name": "stdout",
     "output_type": "stream",
     "text": [
      "name:alice\n",
      "age:25\n",
      "name:alice\n",
      "age:25\n"
     ]
    }
   ],
   "source": [
    "class person:\n",
    "    def __init__(self,name,age):\n",
    "        self.name=name\n",
    "        self.__age=age\n",
    "    def display(self):\n",
    "        print(f\"name:{self.name}\\nage:{self.__age}\")\n",
    "p1=person(\"alice\",25)\n",
    "p1.display()\n",
    "p1.age=44\n",
    "p1.display()"
   ]
  },
  {
   "cell_type": "code",
   "execution_count": 23,
   "id": "8f60a9c0-3063-4bfe-b9cb-37a702e42cb2",
   "metadata": {},
   "outputs": [
    {
     "name": "stdout",
     "output_type": "stream",
     "text": [
      "55\n"
     ]
    }
   ],
   "source": [
    "sum=0\n",
    "for i in range(1,11):\n",
    "    sum=sum+i\n",
    "print(sum)"
   ]
  },
  {
   "cell_type": "code",
   "execution_count": 27,
   "id": "09525526-738b-47c5-9ccf-c91be2364200",
   "metadata": {},
   "outputs": [
    {
     "name": "stdout",
     "output_type": "stream",
     "text": [
      "2 4 6 8 10 "
     ]
    }
   ],
   "source": [
    "for i in range(2,11,2):\n",
    "    print(i,end=\" \")"
   ]
  },
  {
   "cell_type": "code",
   "execution_count": 31,
   "id": "71def94b-f08f-437f-8cc1-9427e7181027",
   "metadata": {},
   "outputs": [
    {
     "name": "stdin",
     "output_type": "stream",
     "text": [
      "enter a number: 6\n"
     ]
    },
    {
     "name": "stdout",
     "output_type": "stream",
     "text": [
      "given number is divisible by 2 and 3\n"
     ]
    }
   ],
   "source": [
    "n=int(input(\"enter a number:\"))\n",
    "if n%2==0 and n%3==0:\n",
    "      print(\"given number is divisible by 2 and 3\")\n",
    "if n%2!=0 and n%3!=0:\n",
    "      print(\"given number is not divisible by 2 and 3\")\n",
    "      "
   ]
  },
  {
   "cell_type": "code",
   "execution_count": 47,
   "id": "133668e0-9f22-4bae-92d3-70bb46a61c7d",
   "metadata": {},
   "outputs": [
    {
     "name": "stdout",
     "output_type": "stream",
     "text": [
      "2 3\n"
     ]
    }
   ],
   "source": [
    "str=\"pavan\"\n",
    "vowels=\"aeiouAEIOU\"\n",
    "\n",
    "count=0\n",
    "const=0\n",
    "for i in str:\n",
    "    if i in vowels:\n",
    "        count=count+1\n",
    "    if i not in vowels:\n",
    "        const=const+1\n",
    "\n",
    "    \n",
    "    \n",
    "print(count,const)"
   ]
  },
  {
   "cell_type": "code",
   "execution_count": 45,
   "id": "1931c477-1362-4350-97d1-3d2c89662387",
   "metadata": {},
   "outputs": [
    {
     "name": "stdout",
     "output_type": "stream",
     "text": [
      "even: 2 odd 3\n"
     ]
    }
   ],
   "source": [
    "lst=[1,2,3,4,5]\n",
    "even=0\n",
    "odd=0\n",
    "for i in lst:\n",
    "    if i%2==0:\n",
    "        even=even+1\n",
    "    if i%2!=0:\n",
    "        odd=odd+1\n",
    "print(\"even:\",even,\"odd\",odd)\n",
    " "
   ]
  },
  {
   "cell_type": "code",
   "execution_count": 57,
   "id": "2a8bec1f-dc6d-4a4e-b071-4bdf0c369c16",
   "metadata": {},
   "outputs": [
    {
     "name": "stdout",
     "output_type": "stream",
     "text": [
      "navap\n"
     ]
    }
   ],
   "source": [
    "text=\"pavan\"\n",
    "text.replace('p',\"R\")\n",
    "a=text[::-1]\n",
    "print(a)"
   ]
  },
  {
   "cell_type": "code",
   "execution_count": 67,
   "id": "6489a39e-3e2e-4da4-b919-17050fe31f0c",
   "metadata": {},
   "outputs": [
    {
     "name": "stdout",
     "output_type": "stream",
     "text": [
      "['p', 'a', 'v', 'a', 'n']\n"
     ]
    }
   ],
   "source": [
    "text=\"pavan\"\n",
    "a=list(text)\n",
    "print(a)\n"
   ]
  },
  {
   "cell_type": "code",
   "execution_count": 73,
   "id": "ff7860bb-e275-49b1-9757-82fdcbe1ede2",
   "metadata": {},
   "outputs": [
    {
     "name": "stdout",
     "output_type": "stream",
     "text": [
      "[1, 2, 3, 4, 5, 6]\n"
     ]
    }
   ],
   "source": [
    "def unique(l):\n",
    "    x=[]\n",
    "    for i in l:\n",
    "        if i not in x:\n",
    "            x.append(i)\n",
    "    print(x)\n",
    "a=unique([1,1,2,2,3,4,4,5,5,6])\n",
    "\n",
    "            "
   ]
  },
  {
   "cell_type": "code",
   "execution_count": 13,
   "id": "f158819c-d6d5-4f11-a92a-397af4156401",
   "metadata": {},
   "outputs": [
    {
     "name": "stdout",
     "output_type": "stream",
     "text": [
      "finallist: [1, 2, 4, 4, 5]\n"
     ]
    }
   ],
   "source": [
    "nested_list=[[1],[2,4],[4,5]]\n",
    "final=[]\n",
    "for sublist in nested_list:\n",
    "    for item in sublist:\n",
    "        final.append(item)\n",
    "print('finallist:',final)"
   ]
  },
  {
   "cell_type": "code",
   "execution_count": 21,
   "id": "8e9508d7-1b3f-4820-921a-4b574610147a",
   "metadata": {},
   "outputs": [
    {
     "name": "stdin",
     "output_type": "stream",
     "text": [
      "enter a string: papaaaaaaa\n"
     ]
    },
    {
     "name": "stdout",
     "output_type": "stream",
     "text": [
      "{'p': 2, 'a': 8}\n"
     ]
    }
   ],
   "source": [
    "text=input(\"enter a string:\")\n",
    "freq={}\n",
    "for char in text:\n",
    "    if char  in freq:\n",
    "        freq[char]+=1\n",
    "    else:\n",
    "        freq[char]=1\n",
    "print(freq)"
   ]
  },
  {
   "cell_type": "code",
   "execution_count": 5,
   "id": "24a6972e-6055-4dd9-b550-0ca17194c98c",
   "metadata": {},
   "outputs": [
    {
     "name": "stdout",
     "output_type": "stream",
     "text": [
      "i am child\n",
      "i am parent\n"
     ]
    }
   ],
   "source": [
    "#single inheritance\n",
    "class parent():\n",
    "    def p1(self):\n",
    "        print(\"i am parent\")\n",
    "class child(parent):\n",
    "    def outputc(self):\n",
    "        print(\"i am child\")\n",
    "c=child()\n",
    "c.outputc()\n",
    "c.p1()\n"
   ]
  },
  {
   "cell_type": "code",
   "execution_count": 7,
   "id": "73f9d183-b111-4abd-af82-c09d59a58454",
   "metadata": {},
   "outputs": [
    {
     "name": "stdout",
     "output_type": "stream",
     "text": [
      "i am son\n",
      "i am father\n",
      "i am grandfather\n"
     ]
    }
   ],
   "source": [
    "#multilevel inheritance\n",
    "class grandfather():\n",
    "    def gf(self):\n",
    "        print(\"i am grandfather\")\n",
    "class father(grandfather):\n",
    "    def outputf(self):\n",
    "        print(\"i am father\")\n",
    "class son(father):\n",
    "    def outputs(self):\n",
    "        print(\"i am son\")\n",
    "d=son()\n",
    "d.outputs()\n",
    "d.outputf()\n",
    "d.gf()"
   ]
  },
  {
   "cell_type": "code",
   "execution_count": 9,
   "id": "36a78784-80c8-4040-ad31-9a510da44d7e",
   "metadata": {},
   "outputs": [
    {
     "name": "stdout",
     "output_type": "stream",
     "text": [
      "i am son\n",
      "i am father\n",
      "i am mother\n"
     ]
    }
   ],
   "source": [
    "#multiple inhritance\n",
    "class mother():\n",
    "    def outputm(self):\n",
    "        print(\"i am mother\")\n",
    "class father():\n",
    "    def outputf(self):\n",
    "        print(\"i am father\")\n",
    "class son(mother,father):\n",
    "    def outputs(self):\n",
    "        print(\"i am son\")\n",
    "c=son()\n",
    "c.outputs()\n",
    "c.outputf()\n",
    "c.outputm()"
   ]
  },
  {
   "cell_type": "code",
   "execution_count": 29,
   "id": "7173d45e-c66e-4bd6-b3ef-f84c265d1203",
   "metadata": {},
   "outputs": [
    {
     "name": "stdout",
     "output_type": "stream",
     "text": [
      "i am child2\n",
      "i am child1\n",
      "i am father\n"
     ]
    }
   ],
   "source": [
    "#hybrid inheritance\n",
    "class father():\n",
    "    def outputf(self):\n",
    "        print(\"i am father\")\n",
    "class child1(father):\n",
    "    def outputc(self):\n",
    "        print(\"i am child1\")\n",
    "class child2(father):\n",
    "    def outputc2(self):\n",
    "        print(\"i am child2\")\n",
    "c=child2()\n",
    "c.outputc2()\n",
    "c1=child1()\n",
    "c1.outputc()\n",
    "c.outputf()"
   ]
  },
  {
   "cell_type": "code",
   "execution_count": null,
   "id": "ae59cf54-797e-40e6-aa15-8a9f0055e799",
   "metadata": {},
   "outputs": [],
   "source": []
  }
 ],
 "metadata": {
  "kernelspec": {
   "display_name": "Python [conda env:base] *",
   "language": "python",
   "name": "conda-base-py"
  },
  "language_info": {
   "codemirror_mode": {
    "name": "ipython",
    "version": 3
   },
   "file_extension": ".py",
   "mimetype": "text/x-python",
   "name": "python",
   "nbconvert_exporter": "python",
   "pygments_lexer": "ipython3",
   "version": "3.12.7"
  }
 },
 "nbformat": 4,
 "nbformat_minor": 5
}
